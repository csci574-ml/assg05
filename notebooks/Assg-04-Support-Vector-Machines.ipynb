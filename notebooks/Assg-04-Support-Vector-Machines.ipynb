{
 "cells": [
  {
   "cell_type": "markdown",
   "metadata": {},
   "source": [
    "# Assignment 04: Support Vector Machines\n",
    "\n",
    "**Due Date:** Friday 11/08/2024 (by midnight)"
   ]
  },
  {
   "cell_type": "markdown",
   "metadata": {},
   "source": [
    "**Please fill these in before submitting, just in case I accidentally mix up file names while grading**:\n",
    "\n",
    "Name: Jane Hacker\n",
    "\n",
    "CWID-5: 12345"
   ]
  },
  {
   "cell_type": "markdown",
   "metadata": {},
   "source": [
    "## Introduction\n",
    "\n",
    "In this assignment you will be using support vector machines (SVMs) with various datasets that\n",
    "contain only 2 features and a single binary label so that you will be performing binary classification tasks.  Exerimenting with these datasets will help you gain an intuition of how SVMs work and how to use a Gaussian kernel with SVMs."
   ]
  },
  {
   "cell_type": "code",
   "execution_count": 1,
   "metadata": {},
   "outputs": [],
   "source": [
    "# The following ipython magic will reload changed file/modules.\n",
    "# So when editing function in source code modules, you should\n",
    "# be able to just rerun the cell, not restart the whole kernel.\n",
    "%load_ext autoreload\n",
    "%autoreload 2"
   ]
  },
  {
   "cell_type": "code",
   "execution_count": 2,
   "metadata": {},
   "outputs": [],
   "source": [
    "import numpy as np\n",
    "import matplotlib.pyplot as plt\n",
    "import pandas as pd\n",
    "import matplotlib\n",
    "\n",
    "# By convention, we often just import the specific classes/functions\n",
    "# from scikit-learn we will need to train a model and perform prediction.\n",
    "# Here we include all of the classes and functions you should need for this\n",
    "# assignment from the sklearn library, but there could be other methods you might\n",
    "# want to try or would be useful to the way you approach the problem, so feel free\n",
    "# to import others you might need or want to try\n",
    "from sklearn import svm\n",
    "from sklearn.pipeline import Pipeline\n",
    "from sklearn.preprocessing import StandardScaler\n",
    "from sklearn.svm import SVC"
   ]
  },
  {
   "cell_type": "code",
   "execution_count": 3,
   "metadata": {},
   "outputs": [],
   "source": [
    "# Import functions/moduls from this project.  We manually set the\n",
    "# PYTHONPATH to append the location to search for this assignments\n",
    "# functions to just ensure the imports are found\n",
    "import sys\n",
    "sys.path.append(\"../src\")\n",
    "\n",
    "# assignment function imports for doctests and github autograding\n",
    "# these are required for assignment autograding\n",
    "from assg_utils import run_unittests, run_doctests\n",
    "from assg_tasks import task_1_1_load_data, task_1_2_linear_svm_classifier, gaussian_kernel, task_3_1_load_data, task_3_2_rbf_svm_classifier\n"
   ]
  },
  {
   "cell_type": "code",
   "execution_count": 4,
   "metadata": {},
   "outputs": [],
   "source": [
    "# notebook wide settings to make plots more readable and visually better to understand\n",
    "np.set_printoptions(suppress=True)\n",
    "plt.rc('axes', labelsize=14)\n",
    "plt.rc('xtick', labelsize=12)\n",
    "plt.rc('ytick', labelsize=12)\n",
    "plt.rc('figure', titlesize=18)\n",
    "plt.rc('legend', fontsize=14)\n",
    "plt.rcParams['figure.figsize'] = (12.0, 8.0) # default figure size if not specified in plot\n",
    "plt.style.use('seaborn-v0_8-darkgrid')"
   ]
  },
  {
   "cell_type": "markdown",
   "metadata": {},
   "source": [
    "## Task 1.1: Load Data, Explore and Visualize\n",
    "\n",
    "As we have done before, start by implementing the `task_1_1_load_data()` function to load the first\n",
    "dataset of this assignment, found in the `src/assg_tasks.py` file.\n",
    "The first dataset is in a file named `../data/assg-04-data1.csv`.\n",
    "This dataset has 51 samples, with two features each and a binary\n",
    "label.  The dataset does not have a separate row that gives names to the columns/features of\n",
    "the data, you need to correctly give names `x_1` and `x_2` for the two features in the dataframe\n",
    "that you return.  The tests of this function will check that you are returning a dataframe with\n",
    "the correct number of samples, and that the binary labels are correct.\n",
    "\n",
    "As usual, do not modify or remove the following cell.  When your function correctly loads and returns the\n",
    "expected feature dataframe `X` and target labels `y`, the following cell should run and pass\n",
    "the tests for your work."
   ]
  },
  {
   "cell_type": "code",
   "execution_count": 5,
   "metadata": {},
   "outputs": [
    {
     "name": "stderr",
     "output_type": "stream",
     "text": [
      "test_X_properties (test_assg_tasks.test_task_1_1_load_data.test_X_properties)\n",
      "FAIL_X_properties ... \n",
      "test_loaded_types (test_assg_tasks.test_task_1_1_load_data.test_loaded_types)\n",
      "okst_loaded_types ... \n",
      "test_y_properties (test_assg_tasks.test_task_1_1_load_data.test_y_properties)\n",
      "FAIL_y_properties ... \n",
      "\n",
      "======================================================================\n",
      "FAIL: test_X_properties (test_assg_tasks.test_task_1_1_load_data.test_X_properties)\n",
      "test_X_properties\n",
      "----------------------------------------------------------------------\n",
      "Traceback (most recent call last):\n",
      "  File \"/opt/conda/lib/python3.12/site-packages/twisted/internet/defer.py\", line 209, in maybeDeferred\n",
      "    result = f(*args, **kwargs)\n",
      "  File \"/opt/conda/lib/python3.12/site-packages/twisted/internet/utils.py\", line 227, in runWithWarningsSuppressed\n",
      "    raise exc_info[1].with_traceback(exc_info[2])\n",
      "  File \"/opt/conda/lib/python3.12/site-packages/twisted/internet/utils.py\", line 223, in runWithWarningsSuppressed\n",
      "    result = f(*a, **kw)\n",
      "  File \"/workspaces/assg04/notebooks/../src/test_assg_tasks.py\", line 18, in test_X_properties\n",
      "    self.assertEqual(self.X.shape, (51, 2))\n",
      "  File \"/opt/conda/lib/python3.12/site-packages/twisted/trial/_synctest.py\", line 444, in assertEqual\n",
      "    super().assertEqual(first, second, msg)\n",
      "  File \"/opt/conda/lib/python3.12/unittest/case.py\", line 885, in assertEqual\n",
      "    assertion_func(first, second, msg=msg)\n",
      "  File \"/opt/conda/lib/python3.12/unittest/case.py\", line 1102, in assertTupleEqual\n",
      "    self.assertSequenceEqual(tuple1, tuple2, msg, seq_type=tuple)\n",
      "  File \"/opt/conda/lib/python3.12/unittest/case.py\", line 1073, in assertSequenceEqual\n",
      "    self.fail(msg)\n",
      "  File \"/opt/conda/lib/python3.12/site-packages/twisted/trial/_synctest.py\", line 381, in fail\n",
      "    raise self.failureException(msg)\n",
      "twisted.trial.unittest.FailTest: Tuples differ: (4, 2) != (51, 2)\n",
      "\n",
      "First differing element 0:\n",
      "4\n",
      "51\n",
      "\n",
      "- (4, 2)\n",
      "?  ^\n",
      "\n",
      "+ (51, 2)\n",
      "?  ^^\n",
      "\n",
      "\n",
      "======================================================================\n",
      "FAIL: test_y_properties (test_assg_tasks.test_task_1_1_load_data.test_y_properties)\n",
      "test_y_properties\n",
      "----------------------------------------------------------------------\n",
      "Traceback (most recent call last):\n",
      "  File \"/opt/conda/lib/python3.12/site-packages/twisted/internet/defer.py\", line 209, in maybeDeferred\n",
      "    result = f(*args, **kwargs)\n",
      "  File \"/opt/conda/lib/python3.12/site-packages/twisted/internet/utils.py\", line 227, in runWithWarningsSuppressed\n",
      "    raise exc_info[1].with_traceback(exc_info[2])\n",
      "  File \"/opt/conda/lib/python3.12/site-packages/twisted/internet/utils.py\", line 223, in runWithWarningsSuppressed\n",
      "    result = f(*a, **kw)\n",
      "  File \"/workspaces/assg04/notebooks/../src/test_assg_tasks.py\", line 22, in test_y_properties\n",
      "    self.assertEqual(self.y.shape, (51,))\n",
      "  File \"/opt/conda/lib/python3.12/site-packages/twisted/trial/_synctest.py\", line 444, in assertEqual\n",
      "    super().assertEqual(first, second, msg)\n",
      "  File \"/opt/conda/lib/python3.12/unittest/case.py\", line 885, in assertEqual\n",
      "    assertion_func(first, second, msg=msg)\n",
      "  File \"/opt/conda/lib/python3.12/unittest/case.py\", line 1102, in assertTupleEqual\n",
      "    self.assertSequenceEqual(tuple1, tuple2, msg, seq_type=tuple)\n",
      "  File \"/opt/conda/lib/python3.12/unittest/case.py\", line 1073, in assertSequenceEqual\n",
      "    self.fail(msg)\n",
      "  File \"/opt/conda/lib/python3.12/site-packages/twisted/trial/_synctest.py\", line 381, in fail\n",
      "    raise self.failureException(msg)\n",
      "twisted.trial.unittest.FailTest: Tuples differ: (1,) != (51,)\n",
      "\n",
      "First differing element 0:\n",
      "1\n",
      "51\n",
      "\n",
      "- (1,)\n",
      "+ (51,)\n",
      "?  +\n",
      "\n",
      "\n",
      "----------------------------------------------------------------------\n",
      "Ran 3 tests in 0.214s\n",
      "\n",
      "FAILED (failures=2)\n"
     ]
    },
    {
     "data": {
      "text/plain": [
       "<unittest.runner.TextTestResult run=3 errors=0 failures=2>"
      ]
     },
     "execution_count": 5,
     "metadata": {},
     "output_type": "execute_result"
    }
   ],
   "source": [
    "# do not remove or modify the code in this cell\n",
    "X, y = task_1_1_load_data()\n",
    "run_unittests(['test_task_1_1_load_data'])"
   ]
  },
  {
   "cell_type": "markdown",
   "metadata": {},
   "source": [
    "In the following cell(s), plot the data from the first dataset that was just loaded\n",
    "in order to visualize it.  Use blue 'o' symbols for the 0 (or no) label and\n",
    "red '+' symbols for the 1 (or yes) label.  Make sure you display a legend\n",
    "and label  your figure axis correctly, the x axis should display the `x_1`\n",
    "feature and the y axis should plot the `x_2` feature.  \n",
    "\n",
    "What do you notice about this data?  For example, do you notice any values that\n",
    "might be outliers in the data?  Is the data linearly separable or not as\n",
    "given?"
   ]
  },
  {
   "cell_type": "code",
   "execution_count": 6,
   "metadata": {},
   "outputs": [],
   "source": [
    "# plot the data to visualize the dataset 1 here\n"
   ]
  },
  {
   "cell_type": "markdown",
   "metadata": {},
   "source": [
    "You may have noticed that there is a point that appears like it may be a mistake or an outlier in the data.  Notice the positive\n",
    "example on the far left at about (0.1, 4.1).  As a part of this exercise, you will see how this outlier affects the SVM decision\n",
    "boundary.\n",
    "\n",
    "## Task 1.2: Fit Linear support vector classifier using small amount of regularization\n",
    "\n",
    "You will try using different values of the $C$ parameter with a linear SVM classifier.  We discussed that the $C$ parameter in the\n",
    "usual formulation of the SVM model corresponds to the $\\lambda$ (lambda) parameter we used to specify the level of regularization we wanted\n",
    "to be used in the model that was found.  Recall back from week 5 that regularization is a penalty term we add when parameters of a model get too big.  The idea is that such terms penalize overfitting of the model.  The $C$ parameter in SVM can be thought\n",
    "of in the same way, though since it is a paramter on the cost function, smaller values of C represent penalizing the model for\n",
    "too much overfitting.\n",
    "\n",
    "Another way to think of $C$ in the context of SVM models is that the $C$ parameter is a positive value that controls the penalty\n",
    "for misclassified training examples.  A small $C$ parameter tells SVM to not worry so much about some misclassification errors, as\n",
    "long as the decision boundary is being maximized.  A large $C$ parameter, on the other hand$ tells the SVM optimization to try\n",
    "hard to correctly classify all the examples correctly.  As we have talked about before, at some point this can lead to overfitting,\n",
    "and though the model parameters of an overfitted model will classify well (or perfectly) our training set data, they will probably\n",
    "not perform well on unseen data if the model is overfit.\n",
    "\n",
    "This example data set has slightly different scales for the two features.  Use a pipeline in\n",
    "when implementing your function to create a linear SVM model to always scale the data through a `StandardScaler` before fitting\n",
    "a model and visualizing the results.\n",
    "\n",
    "In the next cell complete the `task_1_2_linear_svm_classifier()` function.  This function\n",
    "should take in the `X` features dataframe and `y` binary labels to train a linear support vector\n",
    "classifier.  The third parameter `C` should be passed into the created SVC classifier to control\n",
    "the amount of regularization used, and should will be `1.0` for this first linear model that\n",
    "you create.  In the function, you need to create and return a pipeline.  It is expected that the\n",
    "first transformer in the pipeline is a standard scalar, followed by a support vector classifier\n",
    "that uses the given C parameter and fits using a linear kernel.\n"
   ]
  },
  {
   "cell_type": "code",
   "execution_count": 7,
   "metadata": {},
   "outputs": [
    {
     "name": "stderr",
     "output_type": "stream",
     "text": [
      "test_coef (test_assg_tasks.test_task_1_2_linear_svm_classifier.test_coef)\n",
      "ERRORcoef ... \n",
      "test_intercept (test_assg_tasks.test_task_1_2_linear_svm_classifier.test_intercept)\n",
      "ERRORintercept ... \n",
      "test_model_parameters (test_assg_tasks.test_task_1_2_linear_svm_classifier.test_model_parameters)\n",
      "ERRORmodel_parameters ... \n",
      "test_model_pipeline (test_assg_tasks.test_task_1_2_linear_svm_classifier.test_model_pipeline)\n",
      "FAIL_model_pipeline ... \n",
      "\n",
      "======================================================================\n",
      "ERROR: test_coef (test_assg_tasks.test_task_1_2_linear_svm_classifier.test_coef)\n",
      "test_coef\n",
      "----------------------------------------------------------------------\n",
      "Traceback (most recent call last):\n",
      "  File \"/opt/conda/lib/python3.12/site-packages/twisted/internet/defer.py\", line 209, in maybeDeferred\n",
      "    result = f(*args, **kwargs)\n",
      "  File \"/opt/conda/lib/python3.12/site-packages/twisted/internet/utils.py\", line 227, in runWithWarningsSuppressed\n",
      "    raise exc_info[1].with_traceback(exc_info[2])\n",
      "  File \"/opt/conda/lib/python3.12/site-packages/twisted/internet/utils.py\", line 223, in runWithWarningsSuppressed\n",
      "    result = f(*a, **kw)\n",
      "  File \"/workspaces/assg04/notebooks/../src/test_assg_tasks.py\", line 48, in test_coef\n",
      "    coef = self.model[1].coef_[0]\n",
      "TypeError: 'NoneType' object is not subscriptable\n",
      "\n",
      "======================================================================\n",
      "ERROR: test_intercept (test_assg_tasks.test_task_1_2_linear_svm_classifier.test_intercept)\n",
      "test_intercept\n",
      "----------------------------------------------------------------------\n",
      "Traceback (most recent call last):\n",
      "  File \"/opt/conda/lib/python3.12/site-packages/twisted/internet/defer.py\", line 209, in maybeDeferred\n",
      "    result = f(*args, **kwargs)\n",
      "  File \"/opt/conda/lib/python3.12/site-packages/twisted/internet/utils.py\", line 227, in runWithWarningsSuppressed\n",
      "    raise exc_info[1].with_traceback(exc_info[2])\n",
      "  File \"/opt/conda/lib/python3.12/site-packages/twisted/internet/utils.py\", line 223, in runWithWarningsSuppressed\n",
      "    result = f(*a, **kw)\n",
      "  File \"/workspaces/assg04/notebooks/../src/test_assg_tasks.py\", line 44, in test_intercept\n",
      "    intercept = self.model[1].intercept_\n",
      "TypeError: 'NoneType' object is not subscriptable\n",
      "\n",
      "======================================================================\n",
      "ERROR: test_model_parameters (test_assg_tasks.test_task_1_2_linear_svm_classifier.test_model_parameters)\n",
      "test_model_parameters\n",
      "----------------------------------------------------------------------\n",
      "Traceback (most recent call last):\n",
      "  File \"/opt/conda/lib/python3.12/site-packages/twisted/internet/defer.py\", line 209, in maybeDeferred\n",
      "    result = f(*args, **kwargs)\n",
      "  File \"/opt/conda/lib/python3.12/site-packages/twisted/internet/utils.py\", line 227, in runWithWarningsSuppressed\n",
      "    raise exc_info[1].with_traceback(exc_info[2])\n",
      "  File \"/opt/conda/lib/python3.12/site-packages/twisted/internet/utils.py\", line 223, in runWithWarningsSuppressed\n",
      "    result = f(*a, **kw)\n",
      "  File \"/workspaces/assg04/notebooks/../src/test_assg_tasks.py\", line 40, in test_model_parameters\n",
      "    self.assertAlmostEqual(self.model[1].C, 1.0)\n",
      "TypeError: 'NoneType' object is not subscriptable\n",
      "\n",
      "======================================================================\n",
      "FAIL: test_model_pipeline (test_assg_tasks.test_task_1_2_linear_svm_classifier.test_model_pipeline)\n",
      "test_model_pipeline\n",
      "----------------------------------------------------------------------\n",
      "Traceback (most recent call last):\n",
      "  File \"/opt/conda/lib/python3.12/site-packages/twisted/internet/defer.py\", line 209, in maybeDeferred\n",
      "    result = f(*args, **kwargs)\n",
      "  File \"/opt/conda/lib/python3.12/site-packages/twisted/internet/utils.py\", line 227, in runWithWarningsSuppressed\n",
      "    raise exc_info[1].with_traceback(exc_info[2])\n",
      "  File \"/opt/conda/lib/python3.12/site-packages/twisted/internet/utils.py\", line 223, in runWithWarningsSuppressed\n",
      "    result = f(*a, **kw)\n",
      "  File \"/workspaces/assg04/notebooks/../src/test_assg_tasks.py\", line 35, in test_model_pipeline\n",
      "    self.assertIsInstance(self.model, sklearn.pipeline.Pipeline)\n",
      "  File \"/opt/conda/lib/python3.12/site-packages/twisted/trial/_synctest.py\", line 666, in assertIsInstance\n",
      "    self.fail(f\"{instance!r} is not an instance of {classOrTuple}{suffix}\")\n",
      "  File \"/opt/conda/lib/python3.12/site-packages/twisted/trial/_synctest.py\", line 381, in fail\n",
      "    raise self.failureException(msg)\n",
      "twisted.trial.unittest.FailTest: None is not an instance of <class 'sklearn.pipeline.Pipeline'>\n",
      "\n",
      "----------------------------------------------------------------------\n",
      "Ran 4 tests in 0.013s\n",
      "\n",
      "FAILED (failures=1, errors=3)\n"
     ]
    },
    {
     "data": {
      "text/plain": [
       "<unittest.runner.TextTestResult run=4 errors=3 failures=1>"
      ]
     },
     "execution_count": 7,
     "metadata": {},
     "output_type": "execute_result"
    }
   ],
   "source": [
    "# do not remove or modify the code in this cell\n",
    "linclf = task_1_2_linear_svm_classifier(X, y, C=1.0)\n",
    "run_unittests(['test_task_1_2_linear_svm_classifier'])"
   ]
  },
  {
   "cell_type": "markdown",
   "metadata": {},
   "source": [
    "For this part of the assignment, determine\n",
    "the model parameters (intercept and coefficient) and display these. Use these to plot\n",
    "the decision boundary by hand (do not use a contour plot for this first visualization),\n",
    "which is the method that we used in a previous\n",
    "assignment when visualizing the decision boundary for a clasifier for two parameters.\n",
    "Also, to correctly visualize the resulting decision boundary, you will have to scale your\n",
    "`X` features before plotting them (e.g. call the `transform()` function on your fitted\n",
    "scaler from the pipeline  you created).  Make sure that you access the fitted scaler from your\n",
    "pipeline to transform your features in the same way when visualizing the decision boundary\n",
    "here."
   ]
  },
  {
   "cell_type": "code",
   "execution_count": 8,
   "metadata": {},
   "outputs": [],
   "source": [
    "# display the decision boundary for the coeficients by extracting the coefficients\n",
    "# from your fitted linear SVC\n",
    "\n",
    "# show the coefficients that were fitted to the data by the support vector machine\n"
   ]
  },
  {
   "cell_type": "code",
   "execution_count": 9,
   "metadata": {},
   "outputs": [],
   "source": [
    "# plot the data and show the decision boundary.  Determine\n",
    "# the decision boundary by hand (don't use a contour plot).  Make sure you\n",
    "# scale  the data before plotting so that the decision boundary is correctly\n",
    "# represented relative to the scaled data.  Make sure you label your axis and\n",
    "# use a legend in your figure"
   ]
  },
  {
   "cell_type": "markdown",
   "metadata": {},
   "source": [
    "If you performed the previous task correctly, you should see that your SVM classifier with the $C$ parameter set to 1 chooses a decision boundary that basically ignores the outlier point, and the decision boundary appears to be directly in the center of the\n",
    "natural separation indicated by the gap between the positive and negative examples.\n"
   ]
  },
  {
   "cell_type": "markdown",
   "metadata": {},
   "source": [
    "## Task 1.3: Fit Linear support vector classifier using small amount of regularization\n",
    "\n",
    "In the next cell, repeat your previous work, but use a value of $C = 75$ for the $C$ parameter.\n",
    "\n",
    "NOTE: you do not have to do anything here if the previous `task_1_2_linear_svm_classifier()` function\n",
    "is correctly using the passed in `C` parameter.  The additional tests just check that you correctly\n",
    "end up with expected intercept and coefficients for `C=75` here before you plot the new\n",
    "decision boundary next."
   ]
  },
  {
   "cell_type": "code",
   "execution_count": 10,
   "metadata": {},
   "outputs": [
    {
     "name": "stderr",
     "output_type": "stream",
     "text": [
      "test_coef (test_assg_tasks.test_task_1_3_linear_svm_classifier.test_coef)\n",
      "ERRORcoef ... \n",
      "test_intercept (test_assg_tasks.test_task_1_3_linear_svm_classifier.test_intercept)\n",
      "ERRORintercept ... \n",
      "test_model_parameters (test_assg_tasks.test_task_1_3_linear_svm_classifier.test_model_parameters)\n",
      "ERRORmodel_parameters ... \n",
      "test_model_pipeline (test_assg_tasks.test_task_1_3_linear_svm_classifier.test_model_pipeline)\n",
      "FAIL_model_pipeline ... \n",
      "\n",
      "======================================================================\n",
      "ERROR: test_coef (test_assg_tasks.test_task_1_3_linear_svm_classifier.test_coef)\n",
      "test_coef\n",
      "----------------------------------------------------------------------\n",
      "Traceback (most recent call last):\n",
      "  File \"/opt/conda/lib/python3.12/site-packages/twisted/internet/defer.py\", line 209, in maybeDeferred\n",
      "    result = f(*args, **kwargs)\n",
      "  File \"/opt/conda/lib/python3.12/site-packages/twisted/internet/utils.py\", line 227, in runWithWarningsSuppressed\n",
      "    raise exc_info[1].with_traceback(exc_info[2])\n",
      "  File \"/opt/conda/lib/python3.12/site-packages/twisted/internet/utils.py\", line 223, in runWithWarningsSuppressed\n",
      "    result = f(*a, **kw)\n",
      "  File \"/workspaces/assg04/notebooks/../src/test_assg_tasks.py\", line 72, in test_coef\n",
      "    coef = self.model[1].coef_[0]\n",
      "TypeError: 'NoneType' object is not subscriptable\n",
      "\n",
      "======================================================================\n",
      "ERROR: test_intercept (test_assg_tasks.test_task_1_3_linear_svm_classifier.test_intercept)\n",
      "test_intercept\n",
      "----------------------------------------------------------------------\n",
      "Traceback (most recent call last):\n",
      "  File \"/opt/conda/lib/python3.12/site-packages/twisted/internet/defer.py\", line 209, in maybeDeferred\n",
      "    result = f(*args, **kwargs)\n",
      "  File \"/opt/conda/lib/python3.12/site-packages/twisted/internet/utils.py\", line 227, in runWithWarningsSuppressed\n",
      "    raise exc_info[1].with_traceback(exc_info[2])\n",
      "  File \"/opt/conda/lib/python3.12/site-packages/twisted/internet/utils.py\", line 223, in runWithWarningsSuppressed\n",
      "    result = f(*a, **kw)\n",
      "  File \"/workspaces/assg04/notebooks/../src/test_assg_tasks.py\", line 68, in test_intercept\n",
      "    intercept = self.model[1].intercept_\n",
      "TypeError: 'NoneType' object is not subscriptable\n",
      "\n",
      "======================================================================\n",
      "ERROR: test_model_parameters (test_assg_tasks.test_task_1_3_linear_svm_classifier.test_model_parameters)\n",
      "test_model_parameters\n",
      "----------------------------------------------------------------------\n",
      "Traceback (most recent call last):\n",
      "  File \"/opt/conda/lib/python3.12/site-packages/twisted/internet/defer.py\", line 209, in maybeDeferred\n",
      "    result = f(*args, **kwargs)\n",
      "  File \"/opt/conda/lib/python3.12/site-packages/twisted/internet/utils.py\", line 227, in runWithWarningsSuppressed\n",
      "    raise exc_info[1].with_traceback(exc_info[2])\n",
      "  File \"/opt/conda/lib/python3.12/site-packages/twisted/internet/utils.py\", line 223, in runWithWarningsSuppressed\n",
      "    result = f(*a, **kw)\n",
      "  File \"/workspaces/assg04/notebooks/../src/test_assg_tasks.py\", line 64, in test_model_parameters\n",
      "    self.assertAlmostEqual(self.model[1].C, 75.0)\n",
      "TypeError: 'NoneType' object is not subscriptable\n",
      "\n",
      "======================================================================\n",
      "FAIL: test_model_pipeline (test_assg_tasks.test_task_1_3_linear_svm_classifier.test_model_pipeline)\n",
      "test_model_pipeline\n",
      "----------------------------------------------------------------------\n",
      "Traceback (most recent call last):\n",
      "  File \"/opt/conda/lib/python3.12/site-packages/twisted/internet/defer.py\", line 209, in maybeDeferred\n",
      "    result = f(*args, **kwargs)\n",
      "  File \"/opt/conda/lib/python3.12/site-packages/twisted/internet/utils.py\", line 227, in runWithWarningsSuppressed\n",
      "    raise exc_info[1].with_traceback(exc_info[2])\n",
      "  File \"/opt/conda/lib/python3.12/site-packages/twisted/internet/utils.py\", line 223, in runWithWarningsSuppressed\n",
      "    result = f(*a, **kw)\n",
      "  File \"/workspaces/assg04/notebooks/../src/test_assg_tasks.py\", line 59, in test_model_pipeline\n",
      "    self.assertIsInstance(self.model, sklearn.pipeline.Pipeline)\n",
      "  File \"/opt/conda/lib/python3.12/site-packages/twisted/trial/_synctest.py\", line 666, in assertIsInstance\n",
      "    self.fail(f\"{instance!r} is not an instance of {classOrTuple}{suffix}\")\n",
      "  File \"/opt/conda/lib/python3.12/site-packages/twisted/trial/_synctest.py\", line 381, in fail\n",
      "    raise self.failureException(msg)\n",
      "twisted.trial.unittest.FailTest: None is not an instance of <class 'sklearn.pipeline.Pipeline'>\n",
      "\n",
      "----------------------------------------------------------------------\n",
      "Ran 4 tests in 0.015s\n",
      "\n",
      "FAILED (failures=1, errors=3)\n"
     ]
    },
    {
     "data": {
      "text/plain": [
       "<unittest.runner.TextTestResult run=4 errors=3 failures=1>"
      ]
     },
     "execution_count": 10,
     "metadata": {},
     "output_type": "execute_result"
    }
   ],
   "source": [
    "# do not remove or modify the code in this cell\n",
    "linclf = task_1_2_linear_svm_classifier(X, y, C=75.0)\n",
    "run_unittests(['test_task_1_3_linear_svm_classifier'])"
   ]
  },
  {
   "cell_type": "markdown",
   "metadata": {},
   "source": [
    "Also repeat your work in the next cell(s) to extract and display the coefficient and intercepts, \n",
    "and plot the decision boundary obtained using `C=75` regularization on\n",
    "the scaled feature data."
   ]
  },
  {
   "cell_type": "code",
   "execution_count": 11,
   "metadata": {},
   "outputs": [],
   "source": [
    "# display the decision boundary for the coeficients by extracting the coefficients\n",
    "# from your fitted linear SVC\n",
    "\n",
    "\n",
    "# show the coefficients that were fitted to the data by the support vector machine\n"
   ]
  },
  {
   "cell_type": "code",
   "execution_count": 12,
   "metadata": {},
   "outputs": [],
   "source": [
    "# plot the data and show the decision boundary.  Determine\n",
    "# the decision boundary by hand (don't use a contour plot).  Make sure you\n",
    "# scale  the data before plotting so that the decision boundary is correctly\n",
    "# represented relative to the scaled data.  Make sure you label your axis and\n",
    "# use a legend in your figure"
   ]
  },
  {
   "cell_type": "markdown",
   "metadata": {},
   "source": [
    "Notice the effect that the large value of $C$ has on the decision boundary the model produces.  For learning models that use a\n",
    "$C$ parameter, which affects how much weight is given to the cost of the differences between the model and the correct result, high\n",
    "$C$ values will result in models that attempt to classify as much of the training data correctly as possible.  But, as we have\n",
    "discussed, these may lead to overfitted models, that have problems generalizing.\n"
   ]
  },
  {
   "cell_type": "markdown",
   "metadata": {},
   "source": [
    "## Task 2.1: SVM with Gaussian Kernels\n",
    "\n",
    "The SVM classifier from the `scikit-learn` library implements all of the typical and standard kernel functions that are used for\n",
    "this classifier.  However, the SVM classifier in `scikit-learn` will also let you specify your own kernel function, if you need\n",
    "some sort of special kernel measure of similarity.  In this part of our assignment, we are not going to make up a new kernel function, but you will implement the gaussian kernel function.  We will then use your implementation of the gaussian kernel\n",
    "to create an SVM classifier for a data set that is not linearly separable, and we will compare and show that your implementation\n",
    "of the gaussian kernel is correct by comparing the results to what are obtained by using `scikit-learn`s implementation of\n",
    "a gaussian kernel.\n",
    "\n",
    "To find non-linear decision boundaries with SVM, we need to first implement a Gaussian kernel. \n",
    "You can think of the Gaussian kernel as a similarity function that measures the “distance” between a pair of examples,\n",
    "$(x^{(i)} , x^{(j)} )$. The Gaussian kernel is also parameterized by a bandwidth parameter, $\\sigma$, which \n",
    "determines how fast the similarity metric decreases (to 0) as the examples are further apart.\n",
    "\n",
    "The gaussian kernel is defined as:\n",
    "\n",
    "$$\n",
    "K_{\\textrm{gaussian}}(x^{(i)}, x^{(j)}) = \\textrm{exp}(- \\frac{\\| x^{(i)} - x^{(j)} \\|^2}{2 \\sigma^2})\n",
    "= \\textrm{exp}(- \\frac{\\sum_{k=1}^{n} (x_k^{(i)} - x_k^{(j)})^2 }{2 \\sigma^2})\n",
    "$$\n",
    "\n",
    "Here recall that $x^{(i)}$ and $x^{(j)}$ represent two separate points, where usually one is an input and the other is a landmark\n",
    "location.  Both of these are $n$ dimensional vectors, where we have a measurement for each of the $n$ features of the data we\n",
    "are trying to model.  The top part of the fraction calculates norm, which is related to the distance, between the\n",
    "two points in $n$ dimensional space\n",
    "then squares this value.  As you can see on the right side part of the equation, we can calculate this norm by \n",
    "simply summing up the square of the differences of each of the dimensions.  Also remember that $\\sigma$ is simply a parameter\n",
    "that controls how fast the function falls to 0 as the distance between the two given locations is increased.\n",
    "\n",
    "In the next cell, complete the function in `src/assg_tasks.py` called  `gaussian_kernel()` that takes 2 n-dimensional (numpy) vectors as input.  It should\n",
    "calculate the gaussian similarity between these two points and return the similarity measure as a scalar floating point\n",
    "value.  The tests for this function will check that you have the basic implementation correct.  We\n",
    "will use this function in part 3 of this assignment next."
   ]
  },
  {
   "cell_type": "code",
   "execution_count": 13,
   "metadata": {},
   "outputs": [
    {
     "name": "stderr",
     "output_type": "stream",
     "text": [
      "test_lowsimilarity (test_assg_tasks.test_task_2_1_gaussian_kernel.test_lowsimilarity)\n",
      "ERRORlowsimilarity ... \n",
      "test_midsimilarity (test_assg_tasks.test_task_2_1_gaussian_kernel.test_midsimilarity)\n",
      "ERRORmidsimilarity ... \n",
      "test_moredimensions (test_assg_tasks.test_task_2_1_gaussian_kernel.test_moredimensions)\n",
      "ERRORmoredimensions ... \n",
      "test_samelocation (test_assg_tasks.test_task_2_1_gaussian_kernel.test_samelocation)\n",
      "ERRORsamelocation ... \n",
      "\n",
      "======================================================================\n",
      "ERROR: test_lowsimilarity (test_assg_tasks.test_task_2_1_gaussian_kernel.test_lowsimilarity)\n",
      "test_lowsimilarity\n",
      "----------------------------------------------------------------------\n",
      "Traceback (most recent call last):\n",
      "  File \"/opt/conda/lib/python3.12/site-packages/twisted/internet/defer.py\", line 209, in maybeDeferred\n",
      "    result = f(*args, **kwargs)\n",
      "  File \"/opt/conda/lib/python3.12/site-packages/twisted/internet/utils.py\", line 227, in runWithWarningsSuppressed\n",
      "    raise exc_info[1].with_traceback(exc_info[2])\n",
      "  File \"/opt/conda/lib/python3.12/site-packages/twisted/internet/utils.py\", line 223, in runWithWarningsSuppressed\n",
      "    result = f(*a, **kw)\n",
      "  File \"/workspaces/assg04/notebooks/../src/test_assg_tasks.py\", line 97, in test_lowsimilarity\n",
      "    self.assertAlmostEqual(gaussian_kernel(xi, xj, sigma), 0.000158461325116)\n",
      "  File \"/opt/conda/lib/python3.12/site-packages/twisted/trial/_synctest.py\", line 564, in assertAlmostEqual\n",
      "    if round(second - first, places) != 0:\n",
      "TypeError: type numpy.ndarray doesn't define __round__ method\n",
      "\n",
      "======================================================================\n",
      "ERROR: test_midsimilarity (test_assg_tasks.test_task_2_1_gaussian_kernel.test_midsimilarity)\n",
      "test_midsimilarity\n",
      "----------------------------------------------------------------------\n",
      "Traceback (most recent call last):\n",
      "  File \"/opt/conda/lib/python3.12/site-packages/twisted/internet/defer.py\", line 209, in maybeDeferred\n",
      "    result = f(*args, **kwargs)\n",
      "  File \"/opt/conda/lib/python3.12/site-packages/twisted/internet/utils.py\", line 227, in runWithWarningsSuppressed\n",
      "    raise exc_info[1].with_traceback(exc_info[2])\n",
      "  File \"/opt/conda/lib/python3.12/site-packages/twisted/internet/utils.py\", line 223, in runWithWarningsSuppressed\n",
      "    result = f(*a, **kw)\n",
      "  File \"/workspaces/assg04/notebooks/../src/test_assg_tasks.py\", line 91, in test_midsimilarity\n",
      "    self.assertAlmostEqual(gaussian_kernel(xi, xj, sigma), 0.472366552741)\n",
      "  File \"/opt/conda/lib/python3.12/site-packages/twisted/trial/_synctest.py\", line 564, in assertAlmostEqual\n",
      "    if round(second - first, places) != 0:\n",
      "TypeError: type numpy.ndarray doesn't define __round__ method\n",
      "\n",
      "======================================================================\n",
      "ERROR: test_moredimensions (test_assg_tasks.test_task_2_1_gaussian_kernel.test_moredimensions)\n",
      "test_moredimensions\n",
      "----------------------------------------------------------------------\n",
      "Traceback (most recent call last):\n",
      "  File \"/opt/conda/lib/python3.12/site-packages/twisted/internet/defer.py\", line 209, in maybeDeferred\n",
      "    result = f(*args, **kwargs)\n",
      "  File \"/opt/conda/lib/python3.12/site-packages/twisted/internet/utils.py\", line 227, in runWithWarningsSuppressed\n",
      "    raise exc_info[1].with_traceback(exc_info[2])\n",
      "  File \"/opt/conda/lib/python3.12/site-packages/twisted/internet/utils.py\", line 223, in runWithWarningsSuppressed\n",
      "    result = f(*a, **kw)\n",
      "  File \"/workspaces/assg04/notebooks/../src/test_assg_tasks.py\", line 103, in test_moredimensions\n",
      "    self.assertAlmostEqual(gaussian_kernel(xi, xj, sigma), 0.9950124791926823)\n",
      "  File \"/opt/conda/lib/python3.12/site-packages/twisted/trial/_synctest.py\", line 564, in assertAlmostEqual\n",
      "    if round(second - first, places) != 0:\n",
      "TypeError: type numpy.ndarray doesn't define __round__ method\n",
      "\n",
      "======================================================================\n",
      "ERROR: test_samelocation (test_assg_tasks.test_task_2_1_gaussian_kernel.test_samelocation)\n",
      "test_samelocation\n",
      "----------------------------------------------------------------------\n",
      "Traceback (most recent call last):\n",
      "  File \"/opt/conda/lib/python3.12/site-packages/twisted/internet/defer.py\", line 209, in maybeDeferred\n",
      "    result = f(*args, **kwargs)\n",
      "  File \"/opt/conda/lib/python3.12/site-packages/twisted/internet/utils.py\", line 227, in runWithWarningsSuppressed\n",
      "    raise exc_info[1].with_traceback(exc_info[2])\n",
      "  File \"/opt/conda/lib/python3.12/site-packages/twisted/internet/utils.py\", line 223, in runWithWarningsSuppressed\n",
      "    result = f(*a, **kw)\n",
      "  File \"/workspaces/assg04/notebooks/../src/test_assg_tasks.py\", line 85, in test_samelocation\n",
      "    self.assertAlmostEqual(gaussian_kernel(xi, xj, sigma), 1.0)\n",
      "  File \"/opt/conda/lib/python3.12/site-packages/twisted/trial/_synctest.py\", line 564, in assertAlmostEqual\n",
      "    if round(second - first, places) != 0:\n",
      "TypeError: type numpy.ndarray doesn't define __round__ method\n",
      "\n",
      "----------------------------------------------------------------------\n",
      "Ran 4 tests in 0.012s\n",
      "\n",
      "FAILED (errors=4)\n"
     ]
    },
    {
     "data": {
      "text/plain": [
       "<unittest.runner.TextTestResult run=4 errors=4 failures=0>"
      ]
     },
     "execution_count": 13,
     "metadata": {},
     "output_type": "execute_result"
    }
   ],
   "source": [
    "# do not remove or modify the code in this cell\n",
    "run_unittests(['test_task_2_1_gaussian_kernel'])"
   ]
  },
  {
   "cell_type": "markdown",
   "metadata": {},
   "source": [
    "## Task 3.1: Load Example Dataset 2, Explore and Visualize\n",
    "\n",
    "In the next cell we will load a new data set.  This data set still has 2 features ($n = 2$), but it is clearly not linearly\n",
    "separable.  As you did before, complete the `task_3_1_load_data()` function first and make sure that it\n",
    "passes the tests again for loading the data. The data in this file again has now initial row giving names\n",
    "for the features and label, you need to handle this correctly when loading this file."
   ]
  },
  {
   "cell_type": "code",
   "execution_count": 14,
   "metadata": {},
   "outputs": [
    {
     "name": "stderr",
     "output_type": "stream",
     "text": [
      "test_X_properties (test_assg_tasks.test_task_3_1_load_data.test_X_properties)\n",
      "FAIL_X_properties ... \n",
      "test_loaded_types (test_assg_tasks.test_task_3_1_load_data.test_loaded_types)\n",
      "okst_loaded_types ... \n",
      "test_y_properties (test_assg_tasks.test_task_3_1_load_data.test_y_properties)\n",
      "FAIL_y_properties ... \n",
      "\n",
      "======================================================================\n",
      "FAIL: test_X_properties (test_assg_tasks.test_task_3_1_load_data.test_X_properties)\n",
      "test_X_properties\n",
      "----------------------------------------------------------------------\n",
      "Traceback (most recent call last):\n",
      "  File \"/opt/conda/lib/python3.12/site-packages/twisted/internet/defer.py\", line 209, in maybeDeferred\n",
      "    result = f(*args, **kwargs)\n",
      "  File \"/opt/conda/lib/python3.12/site-packages/twisted/internet/utils.py\", line 227, in runWithWarningsSuppressed\n",
      "    raise exc_info[1].with_traceback(exc_info[2])\n",
      "  File \"/opt/conda/lib/python3.12/site-packages/twisted/internet/utils.py\", line 223, in runWithWarningsSuppressed\n",
      "    result = f(*a, **kw)\n",
      "  File \"/workspaces/assg04/notebooks/../src/test_assg_tasks.py\", line 115, in test_X_properties\n",
      "    self.assertEqual(self.X.shape, (863, 2))\n",
      "  File \"/opt/conda/lib/python3.12/site-packages/twisted/trial/_synctest.py\", line 444, in assertEqual\n",
      "    super().assertEqual(first, second, msg)\n",
      "  File \"/opt/conda/lib/python3.12/unittest/case.py\", line 885, in assertEqual\n",
      "    assertion_func(first, second, msg=msg)\n",
      "  File \"/opt/conda/lib/python3.12/unittest/case.py\", line 1102, in assertTupleEqual\n",
      "    self.assertSequenceEqual(tuple1, tuple2, msg, seq_type=tuple)\n",
      "  File \"/opt/conda/lib/python3.12/unittest/case.py\", line 1073, in assertSequenceEqual\n",
      "    self.fail(msg)\n",
      "  File \"/opt/conda/lib/python3.12/site-packages/twisted/trial/_synctest.py\", line 381, in fail\n",
      "    raise self.failureException(msg)\n",
      "twisted.trial.unittest.FailTest: Tuples differ: (4, 2) != (863, 2)\n",
      "\n",
      "First differing element 0:\n",
      "4\n",
      "863\n",
      "\n",
      "- (4, 2)\n",
      "+ (863, 2)\n",
      "\n",
      "======================================================================\n",
      "FAIL: test_y_properties (test_assg_tasks.test_task_3_1_load_data.test_y_properties)\n",
      "test_y_properties\n",
      "----------------------------------------------------------------------\n",
      "Traceback (most recent call last):\n",
      "  File \"/opt/conda/lib/python3.12/site-packages/twisted/internet/defer.py\", line 209, in maybeDeferred\n",
      "    result = f(*args, **kwargs)\n",
      "  File \"/opt/conda/lib/python3.12/site-packages/twisted/internet/utils.py\", line 227, in runWithWarningsSuppressed\n",
      "    raise exc_info[1].with_traceback(exc_info[2])\n",
      "  File \"/opt/conda/lib/python3.12/site-packages/twisted/internet/utils.py\", line 223, in runWithWarningsSuppressed\n",
      "    result = f(*a, **kw)\n",
      "  File \"/workspaces/assg04/notebooks/../src/test_assg_tasks.py\", line 119, in test_y_properties\n",
      "    self.assertEqual(self.y.shape, (863,))\n",
      "  File \"/opt/conda/lib/python3.12/site-packages/twisted/trial/_synctest.py\", line 444, in assertEqual\n",
      "    super().assertEqual(first, second, msg)\n",
      "  File \"/opt/conda/lib/python3.12/unittest/case.py\", line 885, in assertEqual\n",
      "    assertion_func(first, second, msg=msg)\n",
      "  File \"/opt/conda/lib/python3.12/unittest/case.py\", line 1102, in assertTupleEqual\n",
      "    self.assertSequenceEqual(tuple1, tuple2, msg, seq_type=tuple)\n",
      "  File \"/opt/conda/lib/python3.12/unittest/case.py\", line 1073, in assertSequenceEqual\n",
      "    self.fail(msg)\n",
      "  File \"/opt/conda/lib/python3.12/site-packages/twisted/trial/_synctest.py\", line 381, in fail\n",
      "    raise self.failureException(msg)\n",
      "twisted.trial.unittest.FailTest: Tuples differ: (1,) != (863,)\n",
      "\n",
      "First differing element 0:\n",
      "1\n",
      "863\n",
      "\n",
      "- (1,)\n",
      "+ (863,)\n",
      "\n",
      "----------------------------------------------------------------------\n",
      "Ran 3 tests in 0.012s\n",
      "\n",
      "FAILED (failures=2)\n"
     ]
    },
    {
     "data": {
      "text/plain": [
       "<unittest.runner.TextTestResult run=3 errors=0 failures=2>"
      ]
     },
     "execution_count": 14,
     "metadata": {},
     "output_type": "execute_result"
    }
   ],
   "source": [
    "# do not remove or modify the code in this cell\n",
    "X, y = task_3_1_load_data()\n",
    "run_unittests(['test_task_3_1_load_data'])"
   ]
  },
  {
   "cell_type": "markdown",
   "metadata": {},
   "source": [
    "Once you have the data loading and passing the tests for the second data set,\n",
    "create a visualization of this data using red '+' markers for the positive examples and \n",
    "blue 'o' markers for the negative examples, as you have done for the first dataset."
   ]
  },
  {
   "cell_type": "code",
   "execution_count": 15,
   "metadata": {},
   "outputs": [],
   "source": [
    "# plot the data to visualize it here.  Use red + for the positive label and\n",
    "# blue o for the negative labels.  Make sure to label your axis and provide\n",
    "# a legend for your plot\n"
   ]
  },
  {
   "cell_type": "markdown",
   "metadata": {},
   "source": [
    "## Task 3.2: Fit RBF Kernel for Nonlinear Decision Classifier\n",
    "\n",
    "In our Lecture 10 notebook, we showed an example of creating a non-linear SVM classifier using a gaussian kernel.  This was our\n",
    "last example in the lecture notebook.  In that example, by specifying the `gamma = 1.0` parameter when creating the SVM \n",
    "classifier, we were basically asking for a standard gaussian kernel.  \n",
    "\n",
    "However, if you examine the\n",
    "[scikit-learn SVM classifier documentation](http://scikit-learn.org/stable/modules/svm.html)\n",
    "and read about the radial basis functions (rbf), you will find that the rbf kernel functions have the following definition:\n",
    "\n",
    "$$\n",
    "K_{\\textrm{rbf}} = \\textrm{exp}(- \\gamma \\|x - x' \\|^2 )\n",
    "$$\n",
    "\n",
    "So to be precise, if you want to get exactly the gaussian kernel functions as were discussed in the video, where we have a $\\sigma$\n",
    "parameter which controls how fast the similarity decays between the 2 points to 0, we have the relationship between $\\gamma$\n",
    "and $\\sigma$ of the following:\n",
    "\n",
    "$$\n",
    "\\gamma = \\frac{1}{2 \\sigma^2}\n",
    "$$\n",
    "\n",
    "I have used the techniques discussed in the previous week 8 and found out that a value of $C = 1.0$ and a $\\sigma = 0.25$ works\n",
    "well for this second dataset to classify the data.  A $sigma$ of $0.25$ works out to $\\gamma = \\frac{1}{2 \\times 0.25^2} = 8.0$.\n",
    "In the next cell, finish the function to create a SVM classifer for the second data set.  Use a `rbf` kernel function with a $\\sigma = 0.25$ (e.g.\n",
    "set the `gamma` parameter that scikit-learn uses to be 8).  As with the first data set, this function should\n",
    "create and return a `Pipeline` that first performs a standard scaling of the data.  Then the classifier is\n",
    "next in the pipeline that uses the `C` and `gamma` parameters that are passed into this function.\n",
    "\n",
    "So for the next step, you need to implement the `task_3_2_rbf_svm_classifier()` function.\n",
    "This function should create a pipeline that performs a standard scaler on the data, and then\n",
    "fits a support vector classifier to the data.  You need to use the `kernel`, `C`\n",
    "and `gamma` parameters passed in to this function correctly as well in your implementation."
   ]
  },
  {
   "cell_type": "code",
   "execution_count": 16,
   "metadata": {},
   "outputs": [
    {
     "name": "stderr",
     "output_type": "stream",
     "text": [
      "test_intercept (test_assg_tasks.test_task_3_2_rbf_svm_classifier.test_intercept)\n",
      "ERRORintercept ... \n",
      "test_model_parameters (test_assg_tasks.test_task_3_2_rbf_svm_classifier.test_model_parameters)\n",
      "ERRORmodel_parameters ... \n",
      "test_model_pipeline (test_assg_tasks.test_task_3_2_rbf_svm_classifier.test_model_pipeline)\n",
      "FAIL_model_pipeline ... \n",
      "\n",
      "======================================================================\n",
      "ERROR: test_intercept (test_assg_tasks.test_task_3_2_rbf_svm_classifier.test_intercept)\n",
      "test_intercept\n",
      "----------------------------------------------------------------------\n",
      "Traceback (most recent call last):\n",
      "  File \"/opt/conda/lib/python3.12/site-packages/twisted/internet/defer.py\", line 209, in maybeDeferred\n",
      "    result = f(*args, **kwargs)\n",
      "  File \"/opt/conda/lib/python3.12/site-packages/twisted/internet/utils.py\", line 227, in runWithWarningsSuppressed\n",
      "    raise exc_info[1].with_traceback(exc_info[2])\n",
      "  File \"/opt/conda/lib/python3.12/site-packages/twisted/internet/utils.py\", line 223, in runWithWarningsSuppressed\n",
      "    result = f(*a, **kw)\n",
      "  File \"/workspaces/assg04/notebooks/../src/test_assg_tasks.py\", line 139, in test_intercept\n",
      "    intercept = self.model[1].intercept_\n",
      "TypeError: 'NoneType' object is not subscriptable\n",
      "\n",
      "======================================================================\n",
      "ERROR: test_model_parameters (test_assg_tasks.test_task_3_2_rbf_svm_classifier.test_model_parameters)\n",
      "test_model_parameters\n",
      "----------------------------------------------------------------------\n",
      "Traceback (most recent call last):\n",
      "  File \"/opt/conda/lib/python3.12/site-packages/twisted/internet/defer.py\", line 209, in maybeDeferred\n",
      "    result = f(*args, **kwargs)\n",
      "  File \"/opt/conda/lib/python3.12/site-packages/twisted/internet/utils.py\", line 227, in runWithWarningsSuppressed\n",
      "    raise exc_info[1].with_traceback(exc_info[2])\n",
      "  File \"/opt/conda/lib/python3.12/site-packages/twisted/internet/utils.py\", line 223, in runWithWarningsSuppressed\n",
      "    result = f(*a, **kw)\n",
      "  File \"/workspaces/assg04/notebooks/../src/test_assg_tasks.py\", line 134, in test_model_parameters\n",
      "    self.assertAlmostEqual(self.model[1].C, 1.0)\n",
      "TypeError: 'NoneType' object is not subscriptable\n",
      "\n",
      "======================================================================\n",
      "FAIL: test_model_pipeline (test_assg_tasks.test_task_3_2_rbf_svm_classifier.test_model_pipeline)\n",
      "test_model_pipeline\n",
      "----------------------------------------------------------------------\n",
      "Traceback (most recent call last):\n",
      "  File \"/opt/conda/lib/python3.12/site-packages/twisted/internet/defer.py\", line 209, in maybeDeferred\n",
      "    result = f(*args, **kwargs)\n",
      "  File \"/opt/conda/lib/python3.12/site-packages/twisted/internet/utils.py\", line 227, in runWithWarningsSuppressed\n",
      "    raise exc_info[1].with_traceback(exc_info[2])\n",
      "  File \"/opt/conda/lib/python3.12/site-packages/twisted/internet/utils.py\", line 223, in runWithWarningsSuppressed\n",
      "    result = f(*a, **kw)\n",
      "  File \"/workspaces/assg04/notebooks/../src/test_assg_tasks.py\", line 129, in test_model_pipeline\n",
      "    self.assertIsInstance(self.model, sklearn.pipeline.Pipeline)\n",
      "  File \"/opt/conda/lib/python3.12/site-packages/twisted/trial/_synctest.py\", line 666, in assertIsInstance\n",
      "    self.fail(f\"{instance!r} is not an instance of {classOrTuple}{suffix}\")\n",
      "  File \"/opt/conda/lib/python3.12/site-packages/twisted/trial/_synctest.py\", line 381, in fail\n",
      "    raise self.failureException(msg)\n",
      "twisted.trial.unittest.FailTest: None is not an instance of <class 'sklearn.pipeline.Pipeline'>\n",
      "\n",
      "----------------------------------------------------------------------\n",
      "Ran 3 tests in 0.012s\n",
      "\n",
      "FAILED (failures=1, errors=2)\n"
     ]
    },
    {
     "name": "stdout",
     "output_type": "stream",
     "text": [
      "Using gamma:  8.0\n"
     ]
    },
    {
     "data": {
      "text/plain": [
       "<unittest.runner.TextTestResult run=3 errors=2 failures=1>"
      ]
     },
     "execution_count": 16,
     "metadata": {},
     "output_type": "execute_result"
    }
   ],
   "source": [
    "# you should use C=1.0 and gamma = 8.0 for the first rbf model here\n",
    "C = 1.0\n",
    "sigma = 0.25\n",
    "gamma = 1.0 / (2.0 * sigma**2.0)\n",
    "kernel = 'rbf'\n",
    "print('Using gamma: ', gamma)\n",
    "\n",
    "# do not remove or modify the code in this cell\n",
    "rbfclf = task_3_2_rbf_svm_classifier(X, y, kernel=kernel, C=C, gamma=gamma)\n",
    "run_unittests(['test_task_3_2_rbf_svm_classifier'])"
   ]
  },
  {
   "cell_type": "markdown",
   "metadata": {},
   "source": [
    "After you have successfully created and fit the classifier and are passing\n",
    "the tests, visualize the decision\n",
    "boundary as we did in the lecture 10 notebook by creating a mesh of points to plot a contour of the boundary.  Use a step size of 0.01 at a minimum for your mesh."
   ]
  },
  {
   "cell_type": "code",
   "execution_count": 17,
   "metadata": {},
   "outputs": [],
   "source": [
    "# Now display the results.  You will need to use the method of creating a contour plot\n",
    "# to correctly visualize the resulting decision boundary here.  Make sure you\n",
    "# also plot the data, correctly indicating the positive and negative\n",
    "# labels, and adding in axis labels and a legend for the visualization\n"
   ]
  },
  {
   "cell_type": "markdown",
   "metadata": {},
   "source": [
    "# Task 3.3: Use our own Hand-created Kernel Function\n",
    "\n",
    "Lets just demonstrate that the `rbf` kernel function with a `gamma` of 8 is the same as the gaussian kernel function we saw in\n",
    "our lecture notebook with a $\\sigma$ value of 0.25.  In the next cell I have created a wrapper function that will call your\n",
    "`gaussian_kernel` function you created previously.  This is the form of the function that `scikit-learn` expects when you want\n",
    "to specify your own version of the kernel function to use.  I have also shown how to create the `scikit-learn` `SVM` classifier\n",
    "specifying our user defined function for the kernel function.  Try training the classifier in the next cell using our own\n",
    "user defined kernel functions."
   ]
  },
  {
   "cell_type": "code",
   "execution_count": 18,
   "metadata": {},
   "outputs": [],
   "source": [
    "def gaussian_kernel_combos(Xi, Xj):\n",
    "    \"\"\"Function to calculate gaussian kernel similarity between 2 matrices of points.  This function\n",
    "    will be passed to the SVC classifier as the kernel to use, but it should be equivalent to the built\n",
    "    in gaussian kernel rbf functions.  The Xi and Xj matrices should be of the same number of\n",
    "    dimensions (columns) n, but they can be of different number of samples, e.g. (m1,n) and (m2,n) shaped.\n",
    "    The result is a matrix of similarities of shape (m1, m2) where each row,column is the gaussian similarity\n",
    "    between sample m1 and m2 of Xi, Xj respectively.\n",
    "    \n",
    "    Parameters\n",
    "    ----------\n",
    "    Xi, Xj - 2-dimensional matrices of shapes (mi, n) and (mj,n) respectively.  They need to have\n",
    "      the same number of columns.  Each row represents a sample point in n dimensional space.\n",
    "      \n",
    "    Returns\n",
    "    -------\n",
    "    res - A (mi, mj) shaped 2-dimensional matrix.  Each value in the matrix is the similarity\n",
    "       score of the ith,jth similarity of the corresponding point in Xi, Xj respectively.\n",
    "    \"\"\"\n",
    "    sigma = 0.25\n",
    "    mi, n = Xi.shape\n",
    "    mj, n = Xj.shape\n",
    "    res = np.zeros( (mi, mj) )\n",
    "    #print res.shape\n",
    "    for i, xi in enumerate(Xi):\n",
    "        for j, xj in enumerate(Xj):\n",
    "            similarity = gaussian_kernel(xi, xj, sigma)\n",
    "            res[i, j] = similarity\n",
    "    return res"
   ]
  },
  {
   "cell_type": "code",
   "execution_count": 19,
   "metadata": {},
   "outputs": [
    {
     "data": {
      "text/plain": [
       "(4, 2)"
      ]
     },
     "execution_count": 19,
     "metadata": {},
     "output_type": "execute_result"
    }
   ],
   "source": [
    "X.shape"
   ]
  },
  {
   "cell_type": "code",
   "execution_count": 20,
   "metadata": {},
   "outputs": [
    {
     "name": "stdout",
     "output_type": "stream",
     "text": [
      "(4, 2)\n",
      "(4, 4)\n",
      "[[0. 0. 0. 0.]\n",
      " [0. 0. 0. 0.]\n",
      " [0. 0. 0. 0.]\n",
      " [0. 0. 0. 0.]]\n"
     ]
    },
    {
     "name": "stderr",
     "output_type": "stream",
     "text": [
      "/tmp/ipykernel_969/1940597162.py:27: DeprecationWarning: Conversion of an array with ndim > 0 to a scalar is deprecated, and will error in future. Ensure you extract a single element from your array before performing this operation. (Deprecated NumPy 1.25.)\n",
      "  res[i, j] = similarity\n"
     ]
    }
   ],
   "source": [
    "X_train = X[:5].values\n",
    "print(X_train.shape)\n",
    "sim = gaussian_kernel_combos(X_train, X_train)\n",
    "print(sim.shape)\n",
    "print(sim)"
   ]
  },
  {
   "cell_type": "code",
   "execution_count": 21,
   "metadata": {},
   "outputs": [
    {
     "name": "stdout",
     "output_type": "stream",
     "text": [
      "(0, 2)\n"
     ]
    }
   ],
   "source": [
    "X_test = X[5:8].values\n",
    "print(X_test.shape)"
   ]
  },
  {
   "cell_type": "code",
   "execution_count": 22,
   "metadata": {},
   "outputs": [
    {
     "name": "stdout",
     "output_type": "stream",
     "text": [
      "(4, 0)\n",
      "[]\n"
     ]
    }
   ],
   "source": [
    "sim = gaussian_kernel_combos(X_train, X_test)\n",
    "print(sim.shape)\n",
    "print(sim)"
   ]
  },
  {
   "cell_type": "markdown",
   "metadata": {},
   "source": [
    "In the following cell, your implementation of the task function to fit a \n",
    "nonlinear SVM classifier using a kernel is again invoked.  However, in this case\n",
    "the function to use to calculate the kernel is passed in (and we don't specify\n",
    "gamma as the gamma/sigma is hardcoded into this kernel function).  So you\n",
    "shouldn't need to do anything in the next cell, and when you replot your decision\n",
    "boundary, you should see you get the same result as using the `sklearn` `rbf`\n",
    "kernel."
   ]
  },
  {
   "cell_type": "code",
   "execution_count": 23,
   "metadata": {},
   "outputs": [],
   "source": [
    "# you should use C=1.0 for the first rbf model here\n",
    "C = 1.0\n",
    "kernel = gaussian_kernel_combos\n",
    "\n",
    "# do not remove or modify the code in this cell\n",
    "rbfclf = task_3_2_rbf_svm_classifier(X, y, kernel=kernel, C=C)"
   ]
  },
  {
   "cell_type": "markdown",
   "metadata": {},
   "source": [
    "In the next cell, plot again the decision boundary (using a h step size of 0.01) for this classifier using our user defined\n",
    "kernel functions.  Notice that this implementation is much slower.  However, if you examine the decision boundary that was \n",
    "produced,  you should see that we are getting basically the same model and decision boundary using the two ways of specifying\n",
    "the gaussian kernel function."
   ]
  },
  {
   "cell_type": "code",
   "execution_count": 24,
   "metadata": {},
   "outputs": [],
   "source": [
    "# Now display the results.  You will need to use the method of creating a contour plot\n",
    "# to correctly visualize the resulting decision boundary here.  Make sure you\n",
    "# also plot the data, correctly indicating the positive and negative\n",
    "# labels, and adding in axis labels and a legend for the visualization\n",
    "# You should find that the resulting model is exactly the same here as when we used the sklearn\n",
    "# rbf kernel"
   ]
  }
 ],
 "metadata": {
  "kernelspec": {
   "display_name": "Python 3 (ipykernel)",
   "language": "python",
   "name": "python3"
  },
  "language_info": {
   "codemirror_mode": {
    "name": "ipython",
    "version": 3
   },
   "file_extension": ".py",
   "mimetype": "text/x-python",
   "name": "python",
   "nbconvert_exporter": "python",
   "pygments_lexer": "ipython3",
   "version": "3.12.9"
  },
  "latex_envs": {
   "LaTeX_envs_menu_present": true,
   "autoclose": false,
   "autocomplete": true,
   "bibliofile": "biblio.bib",
   "cite_by": "apalike",
   "current_citInitial": 1,
   "eqLabelWithNumbers": true,
   "eqNumInitial": 1,
   "hotkeys": {
    "equation": "Ctrl-E",
    "itemize": "Ctrl-I"
   },
   "labels_anchors": false,
   "latex_user_defs": false,
   "report_style_numbering": false,
   "user_envs_cfg": false
  },
  "toc": {
   "base_numbering": 1,
   "nav_menu": {},
   "number_sections": true,
   "sideBar": true,
   "skip_h1_title": false,
   "title_cell": "Table of Contents",
   "title_sidebar": "Contents",
   "toc_cell": false,
   "toc_position": {},
   "toc_section_display": true,
   "toc_window_display": false
  }
 },
 "nbformat": 4,
 "nbformat_minor": 4
}
